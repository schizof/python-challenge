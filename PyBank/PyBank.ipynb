{
 "cells": [
  {
   "cell_type": "code",
   "execution_count": 1,
   "id": "16306878",
   "metadata": {},
   "outputs": [],
   "source": [
    "# Dependencies\n",
    "import os\n",
    "import csv\n",
    "\n",
    "# Reading the CSV file\n",
    "# Set path for file\n",
    "filepath = os.path.join('.', 'Resources', 'budget_data.csv')\n"
   ]
  },
  {
   "cell_type": "code",
   "execution_count": 2,
   "id": "08735bfe",
   "metadata": {},
   "outputs": [],
   "source": [
    "# Create list to store data \n",
    "budget_data = []\n",
    "\n",
    "# Opening the CSV\n",
    "with open(filepath) as csvfile:\n",
    "    reader = csv.DictReader(csvfile)\n",
    "\n",
    "# Looping through the data to store in a dictionary\n",
    "    for row in reader:\n",
    "        budget_data.append({\"month\": row[\"Date\"], \"amount\": int(row[\"Profit/Losses\"]),\"change\": 0})\n"
   ]
  },
  {
   "cell_type": "code",
   "execution_count": 3,
   "id": "7f166b75",
   "metadata": {},
   "outputs": [],
   "source": [
    "# Total months\n",
    "total_months = len(budget_data)\n"
   ]
  },
  {
   "cell_type": "code",
   "execution_count": 4,
   "id": "875fc325",
   "metadata": {},
   "outputs": [],
   "source": [
    "# Looping through the dictionary in order to calculate changes between months\n",
    "previous_amount = budget_data[0][\"amount\"]\n",
    "for i in range(total_months):\n",
    "    budget_data[i][\"change\"] = budget_data[i][\"amount\"] - previous_amount\n",
    "    prev_amount = budget_data[i][\"amount\"]"
   ]
  },
  {
   "cell_type": "code",
   "execution_count": 5,
   "id": "f501cc52",
   "metadata": {},
   "outputs": [],
   "source": [
    "# Total amount\n",
    "total_amount = sum(row['amount'] for row in budget_data) \n",
    "\n",
    "# Average of amount changes\n",
    "total_change = sum(row['change'] for row in budget_data)\n",
    "average = round(total_change / (total_months-1), 2)\n",
    "\n",
    "# Greatest Increase and Decrease from the changes\n",
    "get_increase = max(budget_data, key=lambda x:x['change'])\n",
    "get_decrease = min(budget_data, key=lambda x:x['change'])\n"
   ]
  },
  {
   "cell_type": "code",
   "execution_count": 6,
   "id": "695967b1",
   "metadata": {},
   "outputs": [
    {
     "name": "stdout",
     "output_type": "stream",
     "text": [
      "Financial Analysis\n",
      "----------------------------\n",
      "Total Months: 86\n",
      "Total: $22564198\n",
      "Average Change: $-836333.41\n",
      "Greatest Increase in Profits: Mar-13 ($52857)\n",
      "Greatest Decrease in Profits: Dec-10 ($-2283116)\n"
     ]
    }
   ],
   "source": [
    "\n",
    "# Printting the Final Analysis\n",
    "print('Financial Analysis')\n",
    "print('----------------------------')\n",
    "print(f'Total Months: {total_months}')\n",
    "print(f'Total: ${total_amount}')\n",
    "print(f'Average Change: ${average}')\n",
    "print(f'Greatest Increase in Profits: {get_increase[\"month\"]} (${get_increase[\"change\"]})')\n",
    "print(f'Greatest Decrease in Profits: {get_decrease[\"month\"]} (${get_decrease[\"change\"]})')\n"
   ]
  },
  {
   "cell_type": "code",
   "execution_count": 7,
   "id": "38ff566d",
   "metadata": {},
   "outputs": [],
   "source": [
    "# Printting  the Final analysis and exporting to a text file \n",
    "# Set path for file\n",
    "filepath = os.path.join('.', 'Resources', 'PyBank_Results.txt')\n",
    "with open(filepath, \"w\") as text_file:\n",
    "    print('Financial Analysis', file=text_file)\n",
    "    print('----------------------------', file=text_file)\n",
    "    print(f'Total Months: {total_months}', file=text_file)\n",
    "    print(f'Total: ${total_amount}', file=text_file)\n",
    "    print(f'Average Change: ${average}', file=text_file)\n",
    "    print(f'Greatest Increase in Profits: {get_increase[\"month\"]} (${get_increase[\"change\"]})', file=text_file)\n",
    "    print(f'Greatest Decrease in Profits: {get_decrease[\"month\"]} (${get_decrease[\"change\"]})', file=text_file)\n",
    "\n"
   ]
  },
  {
   "cell_type": "code",
   "execution_count": null,
   "id": "18141b34",
   "metadata": {},
   "outputs": [],
   "source": []
  }
 ],
 "metadata": {
  "kernelspec": {
   "display_name": "Python 3 (ipykernel)",
   "language": "python",
   "name": "python3"
  },
  "language_info": {
   "codemirror_mode": {
    "name": "ipython",
    "version": 3
   },
   "file_extension": ".py",
   "mimetype": "text/x-python",
   "name": "python",
   "nbconvert_exporter": "python",
   "pygments_lexer": "ipython3",
   "version": "3.10.9"
  }
 },
 "nbformat": 4,
 "nbformat_minor": 5
}
